{
  "nbformat": 4,
  "nbformat_minor": 0,
  "metadata": {
    "colab": {
      "provenance": []
    },
    "kernelspec": {
      "name": "python3",
      "display_name": "Python 3"
    },
    "language_info": {
      "name": "python"
    }
  },
  "cells": [
    {
      "cell_type": "code",
      "execution_count": null,
      "metadata": {
        "id": "LVO2Zd2gQP3s"
      },
      "outputs": [],
      "source": [
        "\"\"\"\n",
        "A. Tham khảo hưỡng dẫn về GNN tại:\n",
        "+ https://viblo.asia/p/gioi-thieu-ve-graph-neural-networks-gnns-yZjJYG7MVOE\n",
        "+ https://docs.dgl.ai/en/0.8.x/tutorials/blitz/4_link_predict.html\n",
        "+ https://arxiv.org/ftp/arxiv/papers/1812/1812.08434.pdf\n",
        "\n",
        "B. Yêu cầu:\n",
        "1. Tìm hiểu và trình bày tổng quan về GNN\n",
        "2. Sử dụng GNN để dự đoán liên kết mạng xã hội mầ bạn lựa chọn\n",
        "3. Đánh giá kết quả giữa GNN và các phương pháp trong LAB 04.01 / 04.02\n",
        "\"\"\""
      ]
    },
    {
      "cell_type": "code",
      "source": [
        "\n",
        "!pip install torch-geometric"
      ],
      "metadata": {
        "id": "yLqR2bD_ReAY",
        "colab": {
          "base_uri": "https://localhost:8080/"
        },
        "outputId": "03f9b1bb-c23f-4506-d017-577ee7b22d54"
      },
      "execution_count": 1,
      "outputs": [
        {
          "output_type": "stream",
          "name": "stdout",
          "text": [
            "Collecting torch-geometric\n",
            "  Downloading torch_geometric-2.6.1-py3-none-any.whl.metadata (63 kB)\n",
            "\u001b[?25l     \u001b[90m━━━━━━━━━━━━━━━━━━━━━━━━━━━━━━━━━━━━━━━━\u001b[0m \u001b[32m0.0/63.1 kB\u001b[0m \u001b[31m?\u001b[0m eta \u001b[36m-:--:--\u001b[0m\r\u001b[2K     \u001b[90m━━━━━━━━━━━━━━━━━━━━━━━━━━━━━━━━━━━━━━━━\u001b[0m \u001b[32m63.1/63.1 kB\u001b[0m \u001b[31m1.7 MB/s\u001b[0m eta \u001b[36m0:00:00\u001b[0m\n",
            "\u001b[?25hRequirement already satisfied: aiohttp in /usr/local/lib/python3.10/dist-packages (from torch-geometric) (3.11.10)\n",
            "Requirement already satisfied: fsspec in /usr/local/lib/python3.10/dist-packages (from torch-geometric) (2024.10.0)\n",
            "Requirement already satisfied: jinja2 in /usr/local/lib/python3.10/dist-packages (from torch-geometric) (3.1.4)\n",
            "Requirement already satisfied: numpy in /usr/local/lib/python3.10/dist-packages (from torch-geometric) (1.26.4)\n",
            "Requirement already satisfied: psutil>=5.8.0 in /usr/local/lib/python3.10/dist-packages (from torch-geometric) (5.9.5)\n",
            "Requirement already satisfied: pyparsing in /usr/local/lib/python3.10/dist-packages (from torch-geometric) (3.2.0)\n",
            "Requirement already satisfied: requests in /usr/local/lib/python3.10/dist-packages (from torch-geometric) (2.32.3)\n",
            "Requirement already satisfied: tqdm in /usr/local/lib/python3.10/dist-packages (from torch-geometric) (4.66.6)\n",
            "Requirement already satisfied: aiohappyeyeballs>=2.3.0 in /usr/local/lib/python3.10/dist-packages (from aiohttp->torch-geometric) (2.4.4)\n",
            "Requirement already satisfied: aiosignal>=1.1.2 in /usr/local/lib/python3.10/dist-packages (from aiohttp->torch-geometric) (1.3.1)\n",
            "Requirement already satisfied: async-timeout<6.0,>=4.0 in /usr/local/lib/python3.10/dist-packages (from aiohttp->torch-geometric) (4.0.3)\n",
            "Requirement already satisfied: attrs>=17.3.0 in /usr/local/lib/python3.10/dist-packages (from aiohttp->torch-geometric) (24.2.0)\n",
            "Requirement already satisfied: frozenlist>=1.1.1 in /usr/local/lib/python3.10/dist-packages (from aiohttp->torch-geometric) (1.5.0)\n",
            "Requirement already satisfied: multidict<7.0,>=4.5 in /usr/local/lib/python3.10/dist-packages (from aiohttp->torch-geometric) (6.1.0)\n",
            "Requirement already satisfied: propcache>=0.2.0 in /usr/local/lib/python3.10/dist-packages (from aiohttp->torch-geometric) (0.2.1)\n",
            "Requirement already satisfied: yarl<2.0,>=1.17.0 in /usr/local/lib/python3.10/dist-packages (from aiohttp->torch-geometric) (1.18.3)\n",
            "Requirement already satisfied: MarkupSafe>=2.0 in /usr/local/lib/python3.10/dist-packages (from jinja2->torch-geometric) (3.0.2)\n",
            "Requirement already satisfied: charset-normalizer<4,>=2 in /usr/local/lib/python3.10/dist-packages (from requests->torch-geometric) (3.4.0)\n",
            "Requirement already satisfied: idna<4,>=2.5 in /usr/local/lib/python3.10/dist-packages (from requests->torch-geometric) (3.10)\n",
            "Requirement already satisfied: urllib3<3,>=1.21.1 in /usr/local/lib/python3.10/dist-packages (from requests->torch-geometric) (2.2.3)\n",
            "Requirement already satisfied: certifi>=2017.4.17 in /usr/local/lib/python3.10/dist-packages (from requests->torch-geometric) (2024.8.30)\n",
            "Requirement already satisfied: typing-extensions>=4.1.0 in /usr/local/lib/python3.10/dist-packages (from multidict<7.0,>=4.5->aiohttp->torch-geometric) (4.12.2)\n",
            "Downloading torch_geometric-2.6.1-py3-none-any.whl (1.1 MB)\n",
            "\u001b[2K   \u001b[90m━━━━━━━━━━━━━━━━━━━━━━━━━━━━━━━━━━━━━━━━\u001b[0m \u001b[32m1.1/1.1 MB\u001b[0m \u001b[31m16.7 MB/s\u001b[0m eta \u001b[36m0:00:00\u001b[0m\n",
            "\u001b[?25hInstalling collected packages: torch-geometric\n",
            "Successfully installed torch-geometric-2.6.1\n"
          ]
        }
      ]
    },
    {
      "cell_type": "code",
      "source": [
        "\n",
        "import torch\n",
        "import torch.nn.functional as F\n",
        "from torch_geometric.datasets import KarateClub\n",
        "from torch_geometric.nn import GCNConv\n",
        "from torch_geometric.utils import train_test_split_edges, negative_sampling\n",
        "from sklearn.metrics import accuracy_score, precision_score, recall_score, f1_score, roc_auc_score\n",
        "\n",
        "# Tải dataset Karate Club\n",
        "dataset = KarateClub()\n",
        "data = dataset[0]\n",
        "\n",
        "# Tạo dữ liệu cho bài toán dự đoán liên kết\n",
        "data = train_test_split_edges(data)  # Tự động tạo tập train, val, test cho các liên kết\n",
        "\n",
        "# Tạo các liên kết âm cho tập huấn luyện\n",
        "data.train_neg_edge_index = negative_sampling(\n",
        "    edge_index=data.train_pos_edge_index,\n",
        "    num_nodes=data.num_nodes\n",
        ")\n",
        "\n",
        "# Xây dựng mô hình GCN\n",
        "class GCN(torch.nn.Module):\n",
        "    def __init__(self, in_channels, out_channels):\n",
        "        super(GCN, self).__init__()\n",
        "        self.conv1 = GCNConv(in_channels, 16)  # Lớp GCN đầu tiên\n",
        "        self.conv2 = GCNConv(16, out_channels)  # Lớp GCN thứ hai\n",
        "\n",
        "    def forward(self, x, edge_index):\n",
        "        x = self.conv1(x, edge_index)  # Tích chập đầu tiên\n",
        "        x = F.relu(x)                  # Hàm kích hoạt ReLU\n",
        "        x = self.conv2(x, edge_index)  # Tích chập thứ hai\n",
        "        return x\n",
        "\n",
        "# Hàm dự đoán liên kết (dot product giữa các nút)\n",
        "def link_prediction(z, edge_label_index):\n",
        "    return (z[edge_label_index[0]] * z[edge_label_index[1]]).sum(dim=1)\n",
        "\n",
        "# Khởi tạo mô hình và tham số\n",
        "device = torch.device('cuda' if torch.cuda.is_available() else 'cpu')\n",
        "model = GCN(data.num_features, 16).to(device)\n",
        "data = data.to(device)\n",
        "optimizer = torch.optim.Adam(model.parameters(), lr=0.01)\n",
        "\n",
        "# Huấn luyện mô hình\n",
        "model.train()\n",
        "for epoch in range(200):\n",
        "    optimizer.zero_grad()\n",
        "    z = model(data.x, data.train_pos_edge_index)  # Biểu diễn nút học được\n",
        "    pos_pred = link_prediction(z, data.train_pos_edge_index)  # Dự đoán liên kết dương\n",
        "    neg_pred = link_prediction(z, data.train_neg_edge_index)  # Dự đoán liên kết âm\n",
        "\n",
        "    # Tính loss\n",
        "    loss = F.binary_cross_entropy_with_logits(\n",
        "        torch.cat([pos_pred, neg_pred]),\n",
        "        torch.cat([torch.ones(pos_pred.size(0)), torch.zeros(neg_pred.size(0))]).to(device)\n",
        "    )\n",
        "    loss.backward()\n",
        "    optimizer.step()\n",
        "\n",
        "    if epoch % 20 == 0:\n",
        "        print(f\"Epoch {epoch}, Loss: {loss.item():.4f}\")\n",
        "\n",
        "# Đánh giá mô hình\n",
        "model.eval()\n",
        "with torch.no_grad():\n",
        "    z = model(data.x, data.train_pos_edge_index)\n",
        "    pos_pred = torch.sigmoid(link_prediction(z, data.test_pos_edge_index))\n",
        "    neg_pred = torch.sigmoid(link_prediction(z, data.test_neg_edge_index))\n",
        "\n",
        "    # Tính các chỉ số đánh giá\n",
        "    y_true = torch.cat([torch.ones(pos_pred.size(0)), torch.zeros(neg_pred.size(0))]).cpu().numpy()\n",
        "    y_pred = torch.cat([pos_pred, neg_pred]).cpu().numpy()\n",
        "\n",
        "    # Tính độ chính xác\n",
        "    acc = accuracy_score(y_true, (y_pred > 0.5).astype(int))\n",
        "\n",
        "    # Tính độ chính xác, recall, F1-score\n",
        "    precision = precision_score(y_true, (y_pred > 0.5).astype(int))\n",
        "    recall = recall_score(y_true, (y_pred > 0.5).astype(int))\n",
        "    f1 = f1_score(y_true, (y_pred > 0.5).astype(int))\n",
        "\n",
        "    # Tính AUC-ROC\n",
        "    auc = roc_auc_score(y_true, y_pred)\n",
        "\n",
        "    print(f\"Độ chính xác: {acc:.4f}\")\n",
        "    print(f\"Precision: {precision:.4f}\")\n",
        "    print(f\"Recall: {recall:.4f}\")\n",
        "    print(f\"F1-score: {f1:.4f}\")\n",
        "    print(f\"AUC-ROC: {auc:.4f}\")"
      ],
      "metadata": {
        "id": "3bHO-Fh6qIwt",
        "colab": {
          "base_uri": "https://localhost:8080/"
        },
        "outputId": "352f0ac3-dd56-4ba5-df62-6372ebb2cea2"
      },
      "execution_count": 2,
      "outputs": [
        {
          "output_type": "stream",
          "name": "stderr",
          "text": [
            "/usr/local/lib/python3.10/dist-packages/torch_geometric/deprecation.py:26: UserWarning: 'train_test_split_edges' is deprecated, use 'transforms.RandomLinkSplit' instead\n",
            "  warnings.warn(out)\n"
          ]
        },
        {
          "output_type": "stream",
          "name": "stdout",
          "text": [
            "Epoch 0, Loss: 0.6862\n",
            "Epoch 20, Loss: 0.4825\n",
            "Epoch 40, Loss: 0.3846\n",
            "Epoch 60, Loss: 0.3499\n",
            "Epoch 80, Loss: 0.3169\n",
            "Epoch 100, Loss: 0.2630\n",
            "Epoch 120, Loss: 0.2209\n",
            "Epoch 140, Loss: 0.1921\n",
            "Epoch 160, Loss: 0.1649\n",
            "Epoch 180, Loss: 0.1374\n",
            "Độ chính xác: 0.5714\n",
            "Precision: 0.6667\n",
            "Recall: 0.2857\n",
            "F1-score: 0.4000\n",
            "AUC-ROC: 0.5102\n"
          ]
        }
      ]
    },
    {
      "cell_type": "markdown",
      "source": [
        "Đánh giá mô hình GNN:\n",
        "Accuracy:\n",
        "\n",
        "GNN đạt 0.5714, chỉ cao hơn Preferential Attachment (0.52) nhưng thấp hơn các mô hình khác như Common Neighbors (0.85) và Random Forest (0.9333).\n",
        "Precision:\n",
        "\n",
        "Precision của GNN là 0.6667, cao hơn Preferential Attachment (0.51087) nhưng vẫn thấp hơn Random Forest (1.0000) và các phương pháp khác.\n",
        "Recall:\n",
        "\n",
        "Recall rất thấp (0.2857) so với tất cả các mô hình còn lại, đặc biệt các mô hình truyền thống đều đạt 0.94.\n",
        "F1-score:\n",
        "\n",
        "Với 0.4000, F1-score của GNN phản ánh sự mất cân bằng nghiêm trọng giữa Precision và Recall.\n",
        "AUC-ROC:\n",
        "\n",
        "GNN đạt 0.5102, gần như ngẫu nhiên (0.5), cho thấy khả năng phân biệt giữa các lớp kém."
      ],
      "metadata": {
        "id": "6dEZUptt2F2K"
      }
    },
    {
      "cell_type": "code",
      "source": [],
      "metadata": {
        "id": "z5PopKZy3RAI"
      },
      "execution_count": null,
      "outputs": []
    },
    {
      "cell_type": "markdown",
      "source": [
        "So sánh tổng thể:\n",
        "GNN thể hiện hiệu suất kém hơn so với các mô hình truyền thống và Random Forest.\n",
        "Random Forest vẫn là mô hình vượt trội với tất cả các chỉ số: AUC-ROC (0.9864), Precision (1.0000) và F1-score (0.9375).\n",
        "Adamic-Adar và Common Neighbors vẫn duy trì kết quả ổn định với AUC-ROC trên 0.93."
      ],
      "metadata": {
        "id": "PAxCU-fx3NsS"
      }
    }
  ]
}